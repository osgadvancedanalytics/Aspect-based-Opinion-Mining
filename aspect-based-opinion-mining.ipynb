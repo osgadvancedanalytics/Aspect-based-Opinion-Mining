{
 "cells": [
  {
   "cell_type": "code",
   "execution_count": 2,
   "metadata": {},
   "outputs": [
    {
     "name": "stderr",
     "output_type": "stream",
     "text": [
      "Downloading https://raw.githubusercontent.com/stanfordnlp/stanza-resources/main/resources_1.2.1.json: 139kB [00:00, 13.5MB/s]                    \n",
      "2022-09-22 14:35:12 INFO: Downloading default packages for language: en (English)...\n",
      "2022-09-22 14:35:13 INFO: File exists: C:\\Users\\Shubham Verma\\stanza_resources\\en\\default.zip.\n",
      "2022-09-22 14:35:16 INFO: Finished downloading models and saved to C:\\Users\\Shubham Verma\\stanza_resources.\n",
      "2022-09-22 14:35:16 INFO: Loading these models for language: en (English):\n",
      "=========================\n",
      "| Processor | Package   |\n",
      "-------------------------\n",
      "| tokenize  | combined  |\n",
      "| pos       | combined  |\n",
      "| lemma     | combined  |\n",
      "| depparse  | combined  |\n",
      "| sentiment | sstplus   |\n",
      "| ner       | ontonotes |\n",
      "=========================\n",
      "\n",
      "2022-09-22 14:35:16 INFO: Use device: cpu\n",
      "2022-09-22 14:35:16 INFO: Loading: tokenize\n",
      "2022-09-22 14:35:16 INFO: Loading: pos\n",
      "2022-09-22 14:35:17 INFO: Loading: lemma\n",
      "2022-09-22 14:35:17 INFO: Loading: depparse\n",
      "2022-09-22 14:35:17 INFO: Loading: sentiment\n",
      "2022-09-22 14:35:18 INFO: Loading: ner\n",
      "2022-09-22 14:35:18 INFO: Done loading processors!\n"
     ]
    }
   ],
   "source": [
    "import stanza\n",
    "stanza.download('en')\n",
    "nlp = stanza.Pipeline('en')"
   ]
  },
  {
   "cell_type": "code",
   "execution_count": 11,
   "metadata": {},
   "outputs": [],
   "source": [
    "import pandas as pd"
   ]
  },
  {
   "cell_type": "code",
   "execution_count": 3,
   "metadata": {},
   "outputs": [],
   "source": [
    "sent_aspects=[]\n",
    "parag_aspects=[]"
   ]
  },
  {
   "cell_type": "code",
   "execution_count": 4,
   "metadata": {},
   "outputs": [],
   "source": [
    "# aspect based opinion mining by splitting each row on '.'\n",
    "\n",
    "def aspect_opinion_mining(para):\n",
    "    sent_aspects=[]\n",
    "    parag_aspects=[]\n",
    "    for sen in para.split('.'): \n",
    "        # print('sen : ',sen)\n",
    "        important = nlp(sen)\n",
    "        descriptive_item = ''\n",
    "        target = ''\n",
    "        added_terms=''\n",
    "        for sent in important.sentences:\n",
    "            for wrd in sent.words:\n",
    "                # print(wrd.text,wrd.pos,wrd.deprel)\n",
    "                if ((wrd.deprel == 'root' and wrd.pos == 'NOUN') or (wrd.deprel == 'nsubj' and wrd.pos == 'NOUN') or(wrd.deprel == 'nsubj' and wrd.pos == 'PROPN')):\n",
    "                    target = wrd.text\n",
    "                if wrd.pos=='ADV' and wrd.deprel =='advmod':\n",
    "                    added_terms = wrd.text\n",
    "                if wrd.pos == 'ADJ':\n",
    "                    descriptive_item = added_terms +' '+ wrd.text\n",
    "                # if target!='' and wrd.pos=='NOUN' and wrd.deprel =='root':\n",
    "                #     descriptive_item = added_terms +' '+ wrd.text                    \n",
    "                if target!='' and descriptive_item!='':\n",
    "                    sent_aspects.append({'aspect': target,'opinion': descriptive_item})\n",
    "                    descriptive_item = ''\n",
    "                    target = ''\n",
    "                    added_terms=''\n",
    "    if(sent_aspects!=[]):\n",
    "        parag_aspects.append(sent_aspects)\n",
    "        sent_aspects=[]\n",
    "    return parag_aspects"
   ]
  },
  {
   "cell_type": "code",
   "execution_count": 5,
   "metadata": {},
   "outputs": [],
   "source": [
    "parag_aspects = aspect_opinion_mining(\" Good food. I w'd have liked more choices. Ambiance is nice\")"
   ]
  },
  {
   "cell_type": "code",
   "execution_count": 6,
   "metadata": {},
   "outputs": [
    {
     "data": {
      "text/plain": [
       "[[{'aspect': 'food', 'opinion': ' Good'},\n",
       "  {'aspect': 'Ambiance', 'opinion': ' nice'}]]"
      ]
     },
     "execution_count": 6,
     "metadata": {},
     "output_type": "execute_result"
    }
   ],
   "source": [
    "parag_aspects"
   ]
  },
  {
   "cell_type": "code",
   "execution_count": 9,
   "metadata": {},
   "outputs": [],
   "source": [
    "def combine_aspect_opinion(parag_aspects):\n",
    "    # joining aspects with opinions to create meaningful labels\n",
    "    paragraph,sentence=[],[]\n",
    "    for para in parag_aspects:\n",
    "        for asp in para:\n",
    "    #         print(asp)\n",
    "            label = '-'.join(asp.values())\n",
    "            sentence.append(label)\n",
    "        paragraph.extend(sentence)\n",
    "        sentence=[]\n",
    "    combined_asp_op = \",\".join(paragraph)\n",
    "    return combined_asp_op"
   ]
  },
  {
   "cell_type": "code",
   "execution_count": 10,
   "metadata": {},
   "outputs": [
    {
     "data": {
      "text/plain": [
       "'food- Good,Ambiance- nice'"
      ]
     },
     "execution_count": 10,
     "metadata": {},
     "output_type": "execute_result"
    }
   ],
   "source": [
    "combine_aspect_opinion(parag_aspects)"
   ]
  },
  {
   "cell_type": "code",
   "execution_count": 12,
   "metadata": {},
   "outputs": [],
   "source": [
    "df = pd.read_csv(\"C:\\\\Users\\\\Shubham Verma\\\\Project\\\\TextAnalytics\\\\Scripts\\\\aspect-based-opinion-mining\\\\2033_Julie_ Infection Control _Record No. UK-IC-01_AH_ W-TDI _UK_04102021 1415Hrs EST.csv\")"
   ]
  },
  {
   "cell_type": "code",
   "execution_count": 15,
   "metadata": {},
   "outputs": [],
   "source": [
    "df['aspect-opinion'] = [aspect_opinion_mining(sent) for sent in df.utter]"
   ]
  },
  {
   "cell_type": "code",
   "execution_count": 16,
   "metadata": {},
   "outputs": [
    {
     "data": {
      "text/html": [
       "<div>\n",
       "<style scoped>\n",
       "    .dataframe tbody tr th:only-of-type {\n",
       "        vertical-align: middle;\n",
       "    }\n",
       "\n",
       "    .dataframe tbody tr th {\n",
       "        vertical-align: top;\n",
       "    }\n",
       "\n",
       "    .dataframe thead th {\n",
       "        text-align: right;\n",
       "    }\n",
       "</style>\n",
       "<table border=\"1\" class=\"dataframe\">\n",
       "  <thead>\n",
       "    <tr style=\"text-align: right;\">\n",
       "      <th></th>\n",
       "      <th>fname</th>\n",
       "      <th>spcode</th>\n",
       "      <th>seq</th>\n",
       "      <th>utter</th>\n",
       "      <th>stime</th>\n",
       "      <th>etime</th>\n",
       "      <th>splabel</th>\n",
       "      <th>key_phrase</th>\n",
       "      <th>aspect-opinion</th>\n",
       "    </tr>\n",
       "  </thead>\n",
       "  <tbody>\n",
       "    <tr>\n",
       "      <th>0</th>\n",
       "      <td>2033_Julie_ Infection Control _Record No. UK-I...</td>\n",
       "      <td>B</td>\n",
       "      <td>1</td>\n",
       "      <td>Alright, thank you. We'll start that the meeti...</td>\n",
       "      <td>0</td>\n",
       "      <td>12</td>\n",
       "      <td>moderator</td>\n",
       "      <td>none</td>\n",
       "      <td>[]</td>\n",
       "    </tr>\n",
       "    <tr>\n",
       "      <th>1</th>\n",
       "      <td>2033_Julie_ Infection Control _Record No. UK-I...</td>\n",
       "      <td>A</td>\n",
       "      <td>2</td>\n",
       "      <td>So currently I manufacture prevention and cont...</td>\n",
       "      <td>14</td>\n",
       "      <td>18</td>\n",
       "      <td>respondent</td>\n",
       "      <td>none</td>\n",
       "      <td>[]</td>\n",
       "    </tr>\n",
       "    <tr>\n",
       "      <th>2</th>\n",
       "      <td>2033_Julie_ Infection Control _Record No. UK-I...</td>\n",
       "      <td>B</td>\n",
       "      <td>3</td>\n",
       "      <td>So.</td>\n",
       "      <td>18</td>\n",
       "      <td>18</td>\n",
       "      <td>moderator</td>\n",
       "      <td>none</td>\n",
       "      <td>[]</td>\n",
       "    </tr>\n",
       "    <tr>\n",
       "      <th>3</th>\n",
       "      <td>2033_Julie_ Infection Control _Record No. UK-I...</td>\n",
       "      <td>A</td>\n",
       "      <td>4</td>\n",
       "      <td>In a nutshell, my role is to help prevent pati...</td>\n",
       "      <td>21</td>\n",
       "      <td>60</td>\n",
       "      <td>respondent</td>\n",
       "      <td>none</td>\n",
       "      <td>[]</td>\n",
       "    </tr>\n",
       "    <tr>\n",
       "      <th>4</th>\n",
       "      <td>2033_Julie_ Infection Control _Record No. UK-I...</td>\n",
       "      <td>B</td>\n",
       "      <td>5</td>\n",
       "      <td>Alright. So how do your responsibilities relat...</td>\n",
       "      <td>61</td>\n",
       "      <td>66</td>\n",
       "      <td>moderator</td>\n",
       "      <td>none</td>\n",
       "      <td>[]</td>\n",
       "    </tr>\n",
       "  </tbody>\n",
       "</table>\n",
       "</div>"
      ],
      "text/plain": [
       "                                               fname spcode  seq  \\\n",
       "0  2033_Julie_ Infection Control _Record No. UK-I...      B    1   \n",
       "1  2033_Julie_ Infection Control _Record No. UK-I...      A    2   \n",
       "2  2033_Julie_ Infection Control _Record No. UK-I...      B    3   \n",
       "3  2033_Julie_ Infection Control _Record No. UK-I...      A    4   \n",
       "4  2033_Julie_ Infection Control _Record No. UK-I...      B    5   \n",
       "\n",
       "                                               utter  stime  etime  \\\n",
       "0  Alright, thank you. We'll start that the meeti...      0     12   \n",
       "1  So currently I manufacture prevention and cont...     14     18   \n",
       "2                                                So.     18     18   \n",
       "3  In a nutshell, my role is to help prevent pati...     21     60   \n",
       "4  Alright. So how do your responsibilities relat...     61     66   \n",
       "\n",
       "      splabel key_phrase aspect-opinion  \n",
       "0   moderator       none             []  \n",
       "1  respondent       none             []  \n",
       "2   moderator       none             []  \n",
       "3  respondent       none             []  \n",
       "4   moderator       none             []  "
      ]
     },
     "execution_count": 16,
     "metadata": {},
     "output_type": "execute_result"
    }
   ],
   "source": [
    "df.head()"
   ]
  },
  {
   "cell_type": "code",
   "execution_count": 17,
   "metadata": {},
   "outputs": [],
   "source": [
    "df.to_csv('aspect-opinion.csv')"
   ]
  }
 ],
 "metadata": {
  "kernelspec": {
   "display_name": "Python 3.8.10 ('assemblyai')",
   "language": "python",
   "name": "python3"
  },
  "language_info": {
   "codemirror_mode": {
    "name": "ipython",
    "version": 3
   },
   "file_extension": ".py",
   "mimetype": "text/x-python",
   "name": "python",
   "nbconvert_exporter": "python",
   "pygments_lexer": "ipython3",
   "version": "3.8.10"
  },
  "orig_nbformat": 4,
  "vscode": {
   "interpreter": {
    "hash": "7d75bbad22151b1c606e0ae7825b8d0dfd617eeb855b9b7c5ab0a7f5c8f9318d"
   }
  }
 },
 "nbformat": 4,
 "nbformat_minor": 2
}
